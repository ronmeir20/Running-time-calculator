{
  "nbformat": 4,
  "nbformat_minor": 0,
  "metadata": {
    "colab": {
      "name": "running_time_learning_calculator.ipynb",
      "provenance": []
    },
    "kernelspec": {
      "name": "python3",
      "display_name": "Python 3"
    },
    "language_info": {
      "name": "python"
    },
    "widgets": {
      "application/vnd.jupyter.widget-state+json": {
        "f8289005638248c595e0eaecfb112726": {
          "model_module": "@jupyter-widgets/controls",
          "model_name": "TextModel",
          "model_module_version": "1.5.0",
          "state": {
            "_view_name": "TextView",
            "style": "IPY_MODEL_92d94eb702574081bab152021fd0646c",
            "_dom_classes": [],
            "description": "",
            "_model_name": "TextModel",
            "placeholder": "​",
            "_view_module": "@jupyter-widgets/controls",
            "_model_module_version": "1.5.0",
            "value": "The estimated time is: 4.534374632488723 Hours or 272.0624779493234 Minutes",
            "_view_count": null,
            "disabled": false,
            "_view_module_version": "1.5.0",
            "continuous_update": true,
            "description_tooltip": null,
            "_model_module": "@jupyter-widgets/controls",
            "layout": "IPY_MODEL_eace2cf1e7344a06881a633287001114"
          }
        },
        "92d94eb702574081bab152021fd0646c": {
          "model_module": "@jupyter-widgets/controls",
          "model_name": "DescriptionStyleModel",
          "model_module_version": "1.5.0",
          "state": {
            "_view_name": "StyleView",
            "_model_name": "DescriptionStyleModel",
            "description_width": "",
            "_view_module": "@jupyter-widgets/base",
            "_model_module_version": "1.5.0",
            "_view_count": null,
            "_view_module_version": "1.2.0",
            "_model_module": "@jupyter-widgets/controls"
          }
        },
        "eace2cf1e7344a06881a633287001114": {
          "model_module": "@jupyter-widgets/base",
          "model_name": "LayoutModel",
          "model_module_version": "1.2.0",
          "state": {
            "_view_name": "LayoutView",
            "grid_template_rows": null,
            "right": null,
            "justify_content": null,
            "_view_module": "@jupyter-widgets/base",
            "overflow": null,
            "_model_module_version": "1.2.0",
            "_view_count": null,
            "flex_flow": null,
            "width": "600px",
            "min_width": null,
            "border": null,
            "align_items": null,
            "bottom": null,
            "_model_module": "@jupyter-widgets/base",
            "top": null,
            "grid_column": null,
            "overflow_y": null,
            "overflow_x": null,
            "grid_auto_flow": null,
            "grid_area": null,
            "grid_template_columns": null,
            "flex": null,
            "_model_name": "LayoutModel",
            "justify_items": null,
            "grid_row": null,
            "max_height": null,
            "align_content": null,
            "visibility": null,
            "align_self": null,
            "height": "80px",
            "min_height": null,
            "padding": null,
            "grid_auto_rows": null,
            "grid_gap": null,
            "max_width": null,
            "order": null,
            "_view_module_version": "1.2.0",
            "grid_template_areas": null,
            "object_position": null,
            "object_fit": null,
            "grid_auto_columns": null,
            "margin": null,
            "display": null,
            "left": null
          }
        }
      }
    }
  },
  "cells": [
    {
      "cell_type": "markdown",
      "metadata": {
        "id": "z8XMGB7JDhKZ"
      },
      "source": [
        "This algorithem gets a Strava activities csv,\n",
        "\n",
        "visualizing height, distance, running times etc...\n",
        "\n",
        "learning the behavior of the runner.\n",
        "\n",
        "allows for ui calculation of running time using specified height and distance."
      ]
    },
    {
      "cell_type": "markdown",
      "metadata": {
        "id": "ezzty1wKDbDJ"
      },
      "source": [
        ""
      ]
    },
    {
      "cell_type": "code",
      "metadata": {
        "colab": {
          "base_uri": "https://localhost:8080/",
          "height": 396,
          "referenced_widgets": [
            "f8289005638248c595e0eaecfb112726",
            "92d94eb702574081bab152021fd0646c",
            "eace2cf1e7344a06881a633287001114"
          ]
        },
        "id": "ZRZlaTZY8trb",
        "outputId": "53bb45f6-3d65-4ea6-b702-833cab518d41"
      },
      "source": [
        "def main():\n",
        "  #@title Running time Calculator { run: \"auto\" }\n",
        "  #@\n",
        "  #------------------------------------------------------\n",
        "  # Load data.\n",
        "  execfile('load_data.py')\n",
        "  training_set, cv_set, test_set, complete_set = load_data_from_csv()\n",
        "\n",
        "  #------------------------------------------------------------------\n",
        "  # Visualize dataset.\n",
        "  execfile('visualize_distance.py')\n",
        "  print(visualize_distance_from_csv(complete_set))\n",
        "\n",
        "  ##execfile('visualize_elevation_gain.py')\n",
        "  ##print(visualize_elevation_gain_from_csv(complete_set))\n",
        "\n",
        "  ##execfile('visualize_elevation_loss.py')\n",
        "  ##print(visualize_elevation_loss_from_csv(complete_set))\n",
        "\n",
        "  #-----------------------------------------------------------------\n",
        "  # Calculate OLS models and choose.\n",
        "  execfile('Calculate_models.py')\n",
        "  ##model_calculation(training_set, cv_set, \"ols\")\n",
        "  ##model_calculation(training_set, cv_set, \"RecursiveLS\")\n",
        "\n",
        "  #-----------------------------------------------------------------\n",
        "  # I get very similar results. Need to break up the comparison.\n",
        "  ##model_calculation(training_set, test_set, \"ols\")\n",
        "  ##model_calculation(training_set, test_set, \"RecursiveLS\")\n",
        "\n",
        "  #----------------------------------------------------------------\n",
        "  # Get the chosen model's detailes.\n",
        "  execfile('ols_model.py')\n",
        "  execfile('wls_model.py')\n",
        "  completeSummary, mainRValue, model = calc_cost_of_run(complete_set)\n",
        "\n",
        "  Distance =  42#@param {type:\"number\"}\n",
        "  ##Elevation_Gain =   0.05#@param {type:\"number\"}\n",
        "  ##predict_data = [[Distance, Elevation_Gain]]\n",
        "  predict_data = [[Distance]]\n",
        "\n",
        "  ##predict_data_df = pd.DataFrame(predict_data, columns = ['Distance', 'Elevation Gain'])\n",
        "  predict_data_df = pd.DataFrame(predict_data, columns = ['Distance'])\n",
        "  prediction = model.predict(predict_data_df)[0]\n",
        "  prediction_min = prediction * 60\n",
        "  output_text = widgets.Text(layout=widgets.Layout(width='600px', height='80px'))\n",
        "  output_text.value = \"The estimated time is: \" + str(prediction) + \" Hours or \" + str(prediction_min) +\" Minutes\"\n",
        "  display(output_text)\n",
        "  \n",
        "    \n",
        "\n",
        "\n",
        "if __name__ == \"__main__\":\n",
        "    main()"
      ],
      "execution_count": null,
      "outputs": [
        {
          "output_type": "stream",
          "name": "stdout",
          "text": [
            "(<Figure size 432x288 with 1 Axes>, <matplotlib.axes._subplots.AxesSubplot object at 0x7f489e3d36d0>)\n"
          ]
        },
        {
          "output_type": "display_data",
          "data": {
            "application/vnd.jupyter.widget-view+json": {
              "model_id": "f8289005638248c595e0eaecfb112726",
              "version_minor": 0,
              "version_major": 2
            },
            "text/plain": [
              "Text(value='The estimated time is: 4.534374632488723 Hours or 272.0624779493234 Minutes', layout=Layout(height…"
            ]
          },
          "metadata": {}
        },
        {
          "output_type": "display_data",
          "data": {
            "image/png": "[encoded data removed]",
            "text/plain": [
              "<Figure size 432x288 with 1 Axes>"
            ]
          },
          "metadata": {
            "needs_background": "light"
          }
        }
      ]
    },
    {
      "cell_type": "code",
      "metadata": {
        "id": "Bijfm6-SVgIF"
      },
      "source": [
        "#@title Load Modules\n",
        "import numpy as np\n",
        "import matplotlib.pyplot as plt\n",
        "import pandas as pd\n",
        "import statsmodels.api as sm\n",
        "import ipywidgets as widgets\n",
        "from IPython.display import display"
      ],
      "execution_count": null,
      "outputs": []
    },
    {
      "cell_type": "code",
      "metadata": {
        "colab": {
          "base_uri": "https://localhost:8080/"
        },
        "id": "RGrlmS_P9TXI",
        "outputId": "da063351-236d-4175-e7b8-53404bc34301"
      },
      "source": [
        "#@title Load Data\n",
        "%%writefile load_data.py\n",
        "def load_data_from_csv():\n",
        "  \n",
        "  # Load plain data\n",
        "  user_csv = pd.read_csv(\"/content/drive/MyDrive/activities.csv\")\n",
        "\n",
        "  # Clean data\n",
        "  ##cleaned_user_csv = user_csv.loc[:, ('Distance', 'Elevation Gain', 'Elapsed Time')]\n",
        "  cleaned_user_csv = user_csv.loc[:, ('Distance', 'Elapsed Time')]\n",
        "\n",
        "  # Adjust unit of measurment to Km/H\n",
        "  ##cleaned_user_csv['Elevation Gain'] /= 1000\n",
        "  cleaned_user_csv['Elapsed Time'] /= 3600 \n",
        "\n",
        "  cleaned_user_csv = cleaned_user_csv.dropna()\n",
        "\n",
        "  # Split the csv to training, cv and test set\n",
        "  training_set = cleaned_user_csv[:243]\n",
        "  cv_set = cleaned_user_csv[243:361]\n",
        "  test_set = cleaned_user_csv[361:]\n",
        "\n",
        "  return training_set, cv_set, test_set, cleaned_user_csv"
      ],
      "execution_count": null,
      "outputs": [
        {
          "output_type": "stream",
          "name": "stdout",
          "text": [
            "Overwriting load_data.py\n"
          ]
        }
      ]
    },
    {
      "cell_type": "code",
      "metadata": {
        "colab": {
          "base_uri": "https://localhost:8080/"
        },
        "id": "hOVE6mAengKW",
        "outputId": "055ac8be-ea83-4f23-b981-eddbd37d85aa"
      },
      "source": [
        "#@title Visualize Distance\n",
        "%%writefile visualize_distance.py\n",
        "def visualize_distance_from_csv(cleaned_user_csv):\n",
        "  # create a figure and axis\n",
        "  fig, ax = plt.subplots()\n",
        "\n",
        "  # scatter the distance against the Elapsed Time of the run.\n",
        "  ax.scatter(cleaned_user_csv['Distance'], cleaned_user_csv['Elapsed Time'])\n",
        "\n",
        "  # set a title and labels\n",
        "  ax.set_title('Distance to time')\n",
        "  ax.set_xlabel('Distance (KM)')\n",
        "  ax.set_ylabel('Elapsed Time (Hours)') \n",
        "  return fig, ax"
      ],
      "execution_count": null,
      "outputs": [
        {
          "output_type": "stream",
          "name": "stdout",
          "text": [
            "Overwriting visualize_distance.py\n"
          ]
        }
      ]
    },
    {
      "cell_type": "code",
      "metadata": {
        "colab": {
          "base_uri": "https://localhost:8080/"
        },
        "id": "2DLkrJX7OfFn",
        "outputId": "6745ec92-ffc9-4bbf-dfa3-1db2fa336d44"
      },
      "source": [
        "#@title visualize Elevation Gain\n",
        "%%writefile visualize_elevation_gain.py\n",
        "def visualize_elevation_gain_from_csv(cleaned_user_csv):\n",
        "  # create a figure and axis\n",
        "  fig, ax = plt.subplots()\n",
        "\n",
        "  # scatter the distance against the Elapsed Time of the run.\n",
        "  ax.scatter(cleaned_user_csv['Elevation Gain'], cleaned_user_csv['Distance'])\n",
        "\n",
        "  # set a title and labels\n",
        "  ax.set_title('Elevation Gain to time')\n",
        "  ax.set_xlabel('Elevation Gain (KM)')\n",
        "  ax.set_ylabel('Distance (KM)') \n",
        "  return fig, ax"
      ],
      "execution_count": null,
      "outputs": [
        {
          "output_type": "stream",
          "name": "stdout",
          "text": [
            "Overwriting visualize_elevation_gain.py\n"
          ]
        }
      ]
    },
    {
      "cell_type": "code",
      "metadata": {
        "colab": {
          "base_uri": "https://localhost:8080/"
        },
        "id": "v09fPFDQDZon",
        "outputId": "e2152309-97bd-4ddc-b9fd-00cbf6519919"
      },
      "source": [
        "#@title OLS model\n",
        "%%writefile ols_model.py\n",
        "def calc_cost_of_run(cleaned_user_csv):\n",
        "  X = sm.hasconst\n",
        "  ##X = cleaned_user_csv.loc[:, ('Distance', 'Elevation Gain')]\n",
        "  X = cleaned_user_csv.loc[:, ('Distance')]\n",
        "  Y = cleaned_user_csv.loc[:, ('Elapsed Time')]\n",
        "  # Build a model that calculates the cost and predict it.\n",
        "  model = sm.OLS(Y, X).fit()\n",
        "  return model.summary(), model.rsquared, model"
      ],
      "execution_count": null,
      "outputs": [
        {
          "output_type": "stream",
          "name": "stdout",
          "text": [
            "Overwriting ols_model.py\n"
          ]
        }
      ]
    },
    {
      "cell_type": "code",
      "metadata": {
        "colab": {
          "base_uri": "https://localhost:8080/"
        },
        "id": "cDM9yheGOy1G",
        "outputId": "25c547f1-1b46-469c-e1c9-d5be7e65a7e9"
      },
      "source": [
        "#@title WLS model\n",
        "%%writefile wls_model.py\n",
        "def calc_weighted_cost_of_run(cleaned_user_csv):\n",
        "  X = cleaned_user_csv.loc[:, ('Distance', 'Elevation Gain')]\n",
        "  X = sm.add_constant(X)\n",
        "  weights = X.copy()\n",
        "  weights = weights / weights\n",
        "  weights['Distance'] = weights['Distance'].apply(lambda x: x*5)\n",
        "  Y = cleaned_user_csv.loc[:, ('Elapsed Time')]\n",
        "\n",
        "  # Build a model that calculates the cost and predict it.\n",
        "\n",
        "  model = sm.WLS(Y, X, weights)\n",
        "  model = model.fit()\n",
        "  return model.summary(), model.rsquared, model"
      ],
      "execution_count": null,
      "outputs": [
        {
          "output_type": "stream",
          "name": "stdout",
          "text": [
            "Overwriting wls_model.py\n"
          ]
        }
      ]
    },
    {
      "cell_type": "code",
      "metadata": {
        "colab": {
          "base_uri": "https://localhost:8080/"
        },
        "id": "Qlk5EttdDi-h",
        "outputId": "4e55f6d4-e1d6-4f86-f7f1-c57262e2e679"
      },
      "source": [
        "#@title Recursive model\n",
        "%%writefile Recursive_model.py\n",
        "def calc_recursive_cost(cleaned_user_csv):\n",
        "  X = cleaned_user_csv.loc[:, ('Distance', 'Elevation Gain')]\n",
        "  X = sm.add_constant(X)\n",
        "  Y = cleaned_user_csv.loc[:, ('Elapsed Time')]\n",
        "\n",
        "  # Build a model that calculates the cost and predict it.\n",
        "  model = sm.RecursiveLS(Y, X).fit()\n",
        "  return model.summary(), model.rsquared, model"
      ],
      "execution_count": null,
      "outputs": [
        {
          "output_type": "stream",
          "name": "stdout",
          "text": [
            "Overwriting Recursive_model.py\n"
          ]
        }
      ]
    },
    {
      "cell_type": "code",
      "metadata": {
        "colab": {
          "base_uri": "https://localhost:8080/"
        },
        "id": "v_T62goJV5wG",
        "outputId": "8e626e08-c7d7-47e7-daaf-4e05271340de"
      },
      "source": [
        "#@title Calculate models\n",
        "%%writefile Calculate_models.py\n",
        "def model_calculation(training_set, cv_set, model):\n",
        "  execfile('ols_model.py')\n",
        "  execfile('Recursive_model.py')\n",
        "  if model == 'ols':\n",
        "    print(\"ols results:\")\n",
        "\n",
        "    # Calculate model on training set\n",
        "    trainSummary, mainRValue, model = calc_cost_of_run(training_set)\n",
        "    print(\"\")\n",
        "    print(\"The summary of OLS fitting First set is:\")\n",
        "    print(trainSummary)\n",
        "    print(\"\")\n",
        "    print(\"the R Value is: \")\n",
        "    print(mainRValue)\n",
        "\n",
        "    # Run model on cv_set\n",
        "    cvSummary, cvRValue, model = calc_cost_of_run(cv_set)\n",
        "    print(\"\")\n",
        "    print(\"The summary of OLS fitting Second set is:\")\n",
        "    print(cvSummary)\n",
        "    print(\"\")\n",
        "    print(\"the R Value is: \")\n",
        "    print(cvRValue)\n",
        "\n",
        "  elif model == 'RecursiveLS':\n",
        "    print(\"RLS results:\")\n",
        "    trainSummary_recursive, mainRValue_recursive, model = calc_recursive_cost(training_set)\n",
        "    print(\"\")\n",
        "    print(\"The summary of RLS fitting First set is:\")\n",
        "    print(trainSummary_recursive)\n",
        "    print(\"\")\n",
        "    print(\"the R Value is: \")\n",
        "    print(mainRValue_recursive)\n",
        "\n",
        "    # Run model on cv_set\n",
        "    cvSummary_recursive, cvRValue_recursive, model = calc_recursive_cost(cv_set)\n",
        "    print(\"\")\n",
        "    print(\"The summary of RLS fitting Second set is:\")\n",
        "    print(cvSummary_recursive)\n",
        "    print(\"\")\n",
        "    print(\"the R Value is: \")\n",
        "    print(cvRValue_recursive)\n"
      ],
      "execution_count": null,
      "outputs": [
        {
          "output_type": "stream",
          "name": "stdout",
          "text": [
            "Overwriting Calculate_models.py\n"
          ]
        }
      ]
    }
  ]
}